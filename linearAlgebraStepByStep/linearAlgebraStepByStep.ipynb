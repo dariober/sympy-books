{
 "metadata": {
  "name": "",
  "signature": "sha256:02eb25d7786e8c78a157b248ff9e8f4f2c708030067f2d16b1ed14432ba2cd7d"
 },
 "nbformat": 3,
 "nbformat_minor": 0,
 "worksheets": [
  {
   "cells": [
    {
     "cell_type": "heading",
     "level": 1,
     "metadata": {},
     "source": [
      "Linear Algebra Step by Step in *SymPy*"
     ]
    },
    {
     "cell_type": "markdown",
     "metadata": {},
     "source": [
      "Excerpts and exercises from **Linear Algebra Step by Step** by K. Singh \n",
      "implemented in [SymPy](http://www.sympy.org/en/index.html)."
     ]
    },
    {
     "cell_type": "markdown",
     "metadata": {},
     "source": [
      "\n",
      "First initialize `SymPy`"
     ]
    },
    {
     "cell_type": "code",
     "collapsed": false,
     "input": [
      "from __future__ import division\n",
      "from sympy import *\n",
      "x, y, z, t = symbols('x y z t')\n",
      "k, m, n = symbols('k m n', integer=True)\n",
      "f, g, h = symbols('f g h', cls=Function)"
     ],
     "language": "python",
     "metadata": {},
     "outputs": [],
     "prompt_number": 9
    },
    {
     "cell_type": "markdown",
     "metadata": {},
     "source": [
      "## Linear Equations and Matrices\n",
      "\n",
      "### Solving linear systems\n",
      "\n",
      "#### Exercises 1.1 2f\n",
      "\n",
      "\n",
      "\\begin{equation}\n",
      "    \\begin{matrix}\n",
      "    e x - e y = 2 \\\\\n",
      "    e x + e y = 0\n",
      "    \\end{matrix}\n",
      "\\end{equation}"
     ]
    },
    {
     "cell_type": "code",
     "collapsed": false,
     "input": [
      "x, y= symbols('x y', real= true)\n",
      "eq1= Eq(E*x - E*y, 2)\n",
      "eq2= Eq(E*x + E*y, 0)\n",
      "sols= solve([eq1, eq2])\n",
      "sols"
     ],
     "language": "python",
     "metadata": {},
     "outputs": [
      {
       "metadata": {},
       "output_type": "pyout",
       "prompt_number": 12,
       "text": [
        "{y: -exp(-1), x: exp(-1)}"
       ]
      }
     ],
     "prompt_number": 12
    },
    {
     "cell_type": "markdown",
     "metadata": {},
     "source": [
      "Solved for:\n",
      "\n",
      "\\begin{equation}\n",
      "\\begin{Bmatrix}x : e^{-1}, & y : - \\frac{1}{e}\\end{Bmatrix}\n",
      "\\end{equation}\n",
      "\n",
      "Check solutions by substituting them in the original equations."
     ]
    },
    {
     "cell_type": "code",
     "collapsed": false,
     "input": [
      "eq1.subs(sols)\n",
      "True\n",
      "eq2.subs(sols)\n",
      "True\n",
      "\n",
      "Solve the system \\ref{eq:ex2f} using matrix notation\n",
      "\n",
      "```\n",
      "coeffs= Matrix([[E, -E], [E, E]])\n",
      "const= Matrix([2, 0])\n",
      "[coeffs, const]\n",
      "```\n",
      "\n",
      "\\begin{equation}\\label{eq:}\n",
      "\\begin{bmatrix}\\left[\\begin{matrix}e & - e\\\\e & e\\end{matrix}\\right], & \\left[\\begin{matrix}2\\\\0\\end{matrix}\\right]\\end{bmatrix}\n",
      "\\end{equation}\n",
      "\n",
      "If everything is correct, solutions are consistent with \\ref{eq:ex2fsol}:\n",
      "\n",
      "```\n",
      "coeffs.solve(const)\n",
      "```\n",
      "\n",
      "\\begin{equation}\n",
      "\\left[\\begin{matrix}e^{-1}\\\\- \\frac{1}{e}\\end{matrix}\\right]\n",
      "\\end{equation}\n",
      "\n",
      "\n"
     ],
     "language": "python",
     "metadata": {},
     "outputs": [
      {
       "ename": "SyntaxError",
       "evalue": "invalid syntax (<ipython-input-7-2a039afc1b49>, line 6)",
       "output_type": "pyerr",
       "traceback": [
        "\u001b[0;36m  File \u001b[0;32m\"<ipython-input-7-2a039afc1b49>\"\u001b[0;36m, line \u001b[0;32m6\u001b[0m\n\u001b[0;31m    Solve the system \\ref{eq:ex2f} using matrix notation\u001b[0m\n\u001b[0m            ^\u001b[0m\n\u001b[0;31mSyntaxError\u001b[0m\u001b[0;31m:\u001b[0m invalid syntax\n"
       ]
      }
     ],
     "prompt_number": 7
    },
    {
     "cell_type": "code",
     "collapsed": false,
     "input": [],
     "language": "python",
     "metadata": {},
     "outputs": [],
     "prompt_number": 7
    },
    {
     "cell_type": "code",
     "collapsed": false,
     "input": [],
     "language": "python",
     "metadata": {},
     "outputs": []
    }
   ],
   "metadata": {}
  }
 ]
}